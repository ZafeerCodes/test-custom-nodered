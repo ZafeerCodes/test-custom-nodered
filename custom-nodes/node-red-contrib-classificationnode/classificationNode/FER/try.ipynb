{
 "cells": [
  {
   "cell_type": "code",
   "execution_count": 26,
   "metadata": {},
   "outputs": [
    {
     "name": "stdout",
     "output_type": "stream",
     "text": [
      "anger\n"
     ]
    },
    {
     "name": "stderr",
     "output_type": "stream",
     "text": [
      "/tmp/ipykernel_373475/2203570583.py:13: FutureWarning: You are using `torch.load` with `weights_only=False` (the current default value), which uses the default pickle module implicitly. It is possible to construct malicious pickle data which will execute arbitrary code during unpickling (See https://github.com/pytorch/pytorch/blob/main/SECURITY.md#untrusted-models for more details). In a future release, the default value for `weights_only` will be flipped to `True`. This limits the functions that could be executed during unpickling. Arbitrary objects will no longer be allowed to be loaded via this mode unless they are explicitly allowlisted by the user via `torch.serialization.add_safe_globals`. We recommend you start setting `weights_only=True` for any use case where you don't have full control of the loaded file. Please open an issue on GitHub for any issues related to this experimental feature.\n",
      "  model.load_state_dict(torch.load(model_path, map_location=device), strict=False)\n",
      "/tmp/ipykernel_373475/2203570583.py:42: UserWarning: To copy construct from a tensor, it is recommended to use sourceTensor.clone().detach() or sourceTensor.clone().detach().requires_grad_(True), rather than torch.tensor(sourceTensor).\n",
      "  tensor_value = torch.tensor(top_class)\n"
     ]
    }
   ],
   "source": [
    "import cv2\n",
    "from model import Face_Emotion_CNN\n",
    "import torch\n",
    "import torchvision.transforms as transforms\n",
    "from PIL import Image\n",
    "\n",
    "def load_trained_model(model_path):\n",
    "        model = Face_Emotion_CNN()\n",
    "        device = torch.device(\"cuda\" if torch.cuda.is_available() else \"cpu\")\n",
    "        # device = torch.device(\"cpu\")\n",
    "\n",
    "        # print(\"Using device:\", device)\n",
    "        model.load_state_dict(torch.load(model_path, map_location=device), strict=False)\n",
    "        model.to(device)  # Move model to the device (GPU or CPU)\n",
    "        return model\n",
    "\n",
    "emotion_dict = {0: 'neutral', 1: 'happiness', 2: 'surprise', 3: 'sadness',\n",
    "                4: 'anger', 5: 'disgust', 6: 'fear'}\n",
    "\n",
    "emotion_model = load_trained_model(\"/media/uzair/New Volume9/leejam/FER/Facial-Emotion-Recognition-PyTorch-ONNX/PyTorch/models/FER_trained_model.pt\")\n",
    "val_transform = transforms.Compose([transforms.ToTensor()])\n",
    "img_path = \"/media/uzair/New Volume9/leejam/FER/Facial-Emotion-Recognition-PyTorch-ONNX/PyTorch/test_img/test.jpg\"\n",
    "img = cv2.imread(img_path)\n",
    "gray = cv2.cvtColor(img, cv2.COLOR_BGR2GRAY)\n",
    "# Resize the image to 48x48\n",
    "resized_img = cv2.resize(gray, (48, 48))\n",
    "# Transform the image\n",
    "X = val_transform(Image.fromarray(resized_img)).unsqueeze(0)\n",
    "# Ensure the tensor is on the same device as the model\n",
    "X = X.to(next(emotion_model.parameters()).device)\n",
    "\n",
    "# Make the model prediction\n",
    "with torch.no_grad():\n",
    "    emotion_model.eval()\n",
    "    log_ps = emotion_model(X)\n",
    "    ps = torch.exp(log_ps)\n",
    "    top_p, top_class = ps.topk(1, dim=1)\n",
    "\n",
    "\n",
    "# print(top_class)\n",
    "# Example tensor\n",
    "tensor_value = torch.tensor(top_class)\n",
    "\n",
    "# Move tensor to CPU if necessary and convert to scalar\n",
    "scalar_value = tensor_value.cpu().item()\n",
    "\n",
    "# Print the scalar value\n",
    "# print(scalar_value)\n",
    "\n",
    "print(emotion_dict[scalar_value])\n"
   ]
  },
  {
   "cell_type": "code",
   "execution_count": 8,
   "metadata": {},
   "outputs": [],
   "source": [
    "emotion_dict = {0: 'neutral', 1: 'happiness', 2: 'surprise', 3: 'sadness',\n",
    "                4: 'anger', 5: 'disgust', 6: 'fear'}"
   ]
  },
  {
   "cell_type": "code",
   "execution_count": 19,
   "metadata": {},
   "outputs": [
    {
     "data": {
      "text/plain": [
       "5"
      ]
     },
     "execution_count": 19,
     "metadata": {},
     "output_type": "execute_result"
    }
   ],
   "source": [
    "emotion"
   ]
  },
  {
   "cell_type": "code",
   "execution_count": null,
   "metadata": {},
   "outputs": [],
   "source": []
  }
 ],
 "metadata": {
  "kernelspec": {
   "display_name": "Python 3",
   "language": "python",
   "name": "python3"
  },
  "language_info": {
   "codemirror_mode": {
    "name": "ipython",
    "version": 3
   },
   "file_extension": ".py",
   "mimetype": "text/x-python",
   "name": "python",
   "nbconvert_exporter": "python",
   "pygments_lexer": "ipython3",
   "version": "3.10.12"
  }
 },
 "nbformat": 4,
 "nbformat_minor": 2
}
